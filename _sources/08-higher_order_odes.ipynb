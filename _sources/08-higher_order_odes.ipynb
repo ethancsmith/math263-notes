{
 "cells": [
  {
   "cell_type": "markdown",
   "id": "12f4fb62",
   "metadata": {},
   "source": [
    "# 8: Higher order initial value problems.\n",
    "\n",
    "An **$m$th order ordinary differential equation** in *normal form* is an equation of the form\n",
    "```{math}\n",
    ":label: mth-order-ode\n",
    "y^{(m)}(x) = f(x, y, y', \\dots, y^{(m-1)}).\n",
    "```\n",
    "To obtain a unique solution, it is typically necessary to specify $m$ initial conditions, say $y(x_0) = \\alpha_0, y'(x_0) = \\alpha_1, \\dots, y^{(m-1)}(x_0) = \\alpha_{m-1}$.  To numerically solve such a problem we introduce $m$ auxiliary variables (really functions) so as to express the problem as a first order system IVP.  Thus, we reduce the problem to one we already know how to solve.  More precisely, we let $u_0=y, u_1=y', \\dots, u_{m-1}=y^{(m-1)}$.  Then equation {eq}`mth-order-ode` is equivalent to the system\n",
    "\\begin{align*}\n",
    "u_0' &= u_1,\\\\\n",
    "u_1' &= u_2,\\\\\n",
    "&\\quad \\vdots\\\\\n",
    "u_{m-2}' &= u_{m-1},\\\\\n",
    "u_{m-1}' &= f(x, u_0, u_1,\\dots, u_{m-1}).\n",
    "\\end{align*}\n",
    "In this way, we are able to compute a numerical solution $y$ the $m$th order IVP along with its lower order derivatives $y', y'', \\dots , y^{(m-1)}$."
   ]
  },
  {
   "cell_type": "markdown",
   "id": "56938934",
   "metadata": {},
   "source": [
    "## Example.\n",
    "\n",
    "Consider the second-order initial-value problem\n",
    "```{math}\n",
    ":label: higher-order-example\n",
    "y'' - 2y' + 2y &= \\exp(2x)\\sin x,\\\\\n",
    "y(0) &= -2/5,\\\\\n",
    "y'(0)&= -3/5.\n",
    "```"
   ]
  },
  {
   "cell_type": "code",
   "execution_count": null,
   "id": "462269c6",
   "metadata": {},
   "outputs": [],
   "source": [
    "import numpy as np\n",
    "import sympy\n",
    "import matplotlib.pyplot as plt\n",
    "\n",
    "plt.style.use('dark_background');\n",
    "\n",
    "# solve the IVP symbolically with the sympy library\n",
    "x = sympy.Symbol('x');\n",
    "y = sympy.Function('y');\n",
    "ode = sympy.Eq(y(x).diff(x, 2)-2*y(x).diff(x) + 2*y(x), sympy.exp(2*x)*sympy.sin(x));\n",
    "a, b = 0, 1;\n",
    "alpha = [sympy.Rational(-2,5), sympy.Rational(-3,5)];\n",
    "soln = sympy.dsolve(ode, y(x), ics={y(a): alpha[0], y(x).diff(x).subs(x, a): alpha[1]});\n",
    "soln = sympy.simplify(soln);\n",
    "\n",
    "print(\"The exact symbolic solution to the IVP is\");\n",
    "display(soln);\n",
    "Dsoln_rhs = sympy.simplify(soln.rhs.diff(x));\n",
    "\n",
    "# lambdify the symbolic solution\n",
    "sym_y = sympy.lambdify(x, soln.rhs, modules=['numpy']);\n",
    "sym_Dy = sympy.lambdify(x, Dsoln_rhs, modules=['numpy']);\n",
    "xvals = np.linspace(a, b, num=40);\n",
    "\n",
    "# plot symbolic solution with matplotlib.pyplot\n",
    "fig, axs = plt.subplots(ncols=2, figsize=(8, 5), layout=\"constrained\");\n",
    "axs[0].plot(xvals, sym_y(xvals), label=f\"${sympy.latex(soln)}$\");\n",
    "axs[1].plot(xvals, sym_Dy(xvals), label=f\"$y'(x) = {sympy.latex(Dsoln_rhs)}$\");\n",
    "fig.suptitle(f\"${sympy.latex(ode)}$, $y({a}) = {alpha[0]}$, $y'({a}) = {alpha[1]}$\")\n",
    "for i in range(len(axs)):\n",
    "\taxs[i].set_xlabel(r\"$x$\");\n",
    "\taxs[i].legend(loc=\"upper left\");\n",
    "\taxs[i].grid(True)\n",
    "axs[0].set_ylabel(r\"$y$\");\n",
    "axs[1].set_ylabel(r\"$y'$\");"
   ]
  },
  {
   "cell_type": "markdown",
   "id": "505bfcd4",
   "metadata": {},
   "source": [
    "To solve {eq}`higher-order-example` numerically, we introduce the variables $u_0=y$ $u_1=y'$, and we rewrite the IVP as\n",
    "```{math}\n",
    "u_0' &= u_1,\\\\\n",
    "u_1' &= 2u_1 - 2u_0 + \\exp(2x)\\sin x,\\\\\n",
    "u_0(0) &= -2/5,\\\\\n",
    "u_1(0) &= -3/5\n",
    "```"
   ]
  },
  {
   "cell_type": "code",
   "execution_count": null,
   "id": "56529746",
   "metadata": {},
   "outputs": [],
   "source": [
    "import math263\n",
    "\n",
    "# define IVP parameters\n",
    "f = lambda x, u: np.array([u[1], 2*u[1] - 2*u[0] + np.exp(2*x)*np.sin(x)]);\n",
    "alpha = [-2/5, -3/5];\n",
    "\n",
    "n = 5;\n",
    "(xi, u_rk4) = math263.rk4(f, a, b, alpha, n); \n",
    "\n",
    "plt.figure(fig);\n",
    "for i in range(len(axs)):\n",
    "\taxs[i].plot(xi, u_rk4[:, i], 'ro:', label='RK4 solution');\n",
    "\taxs[i].legend(loc=\"upper left\");\n",
    "plt.show();"
   ]
  },
  {
   "cell_type": "code",
   "execution_count": null,
   "id": "5f854d13",
   "metadata": {},
   "outputs": [],
   "source": [
    "from tabulate import tabulate\n",
    "\n",
    "uvals = np.c_[sym_y(xi), sym_Dy(xi)];\n",
    "errors = np.abs(uvals - u_rk4)\n",
    "table = np.c_[xi, u_rk4[:, 0], errors[:, 0], u_rk4[:, 1], errors[:, 1]];\n",
    "hdrs = [\"i\", \"x_i\", \"y_i\", \"|y(x_i) - y_i|\", \"y_i'\", \"|y'(x_i) - y_i'|\"];\n",
    "print(tabulate(table, hdrs, tablefmt='mixed_grid', floatfmt='0.5g', showindex=True))"
   ]
  }
 ],
 "metadata": {
  "kernelspec": {
   "display_name": "Python 3 (ipykernel)",
   "language": "python",
   "name": "python3"
  }
 },
 "nbformat": 4,
 "nbformat_minor": 5
}
