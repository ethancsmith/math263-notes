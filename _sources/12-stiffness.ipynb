{
 "cells": [
  {
   "cell_type": "markdown",
   "id": "59da78cb",
   "metadata": {},
   "source": [
    "# Lecture 12: Stiffness.\n",
    "\n",
    "TODO."
   ]
  },
  {
   "cell_type": "code",
   "execution_count": null,
   "id": "749c8473",
   "metadata": {},
   "outputs": [],
   "source": []
  }
 ],
 "metadata": {
  "kernelspec": {
   "display_name": "Python 3 (ipykernel)",
   "language": "python",
   "name": "python3"
  }
 },
 "nbformat": 4,
 "nbformat_minor": 5
}
