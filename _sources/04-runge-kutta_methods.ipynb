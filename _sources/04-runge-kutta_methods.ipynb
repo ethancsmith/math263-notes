{
 "cells": [
  {
   "cell_type": "markdown",
   "id": "0f925f61",
   "metadata": {},
   "source": [
    "# 4: Runge–Kutta methods.\n",
    "\n",
    "Recalling our analysis of Euler's method, it is clear that we could obtain a higher order method if our recurrence for generating the $y_i$'s agreed with more terms of the Taylor series for $y_*$, the true solution to the ODE that passes through the point $(x_i, y_i)$.\n",
    "The **Runge–Kutta methods** are a family of numerical methods which generalize both the methods of Euler and Heun.\n",
    "As with Heun's method, the essence of the idea is to use additional terms of the Taylor series without actually computing the higher order derivatives and instead replacing each with some finite difference approximation.\n",
    "The Runge-Kutta method of order $1$ is Euler's method. Heun's modified Euler method is an example of an order $2$ Runge–Kutta method."
   ]
  },
  {
   "cell_type": "markdown",
   "id": "b3b3b96d",
   "metadata": {},
   "source": [
    "## Order two methods.\n",
    "\n",
    "The generic Runge-Kutta method of order 2 takes the form\n",
    "```{math}\n",
    "y_{i+1} = y_i + h\\big(w_1k_1 + w_2k_2\\big),\n",
    "```\n",
    "where\n",
    "```{math}\n",
    "k_1 &= f(x_i, y_i),\\\\\n",
    "k_2 &= f(x_i+\\alpha h, y_i + \\beta hk_1).\n",
    "```\n",
    "A valid order $2$ method is obtained by imposing the parameter constraints\n",
    "```{math}\n",
    "\\alpha &> 0,\\\\\n",
    "\\beta &=\\alpha,\\\\\n",
    "w_1 &= 1-\\frac{1}{2\\alpha},\\\\\n",
    "w_2 &= \\frac{1}{2\\alpha}.\n",
    "```\n",
    "We mention the three most common choices here.\n",
    "Setting $\\alpha=\\beta=1$ and $w_1=w_2=1/2$ yields Heun's (modified Euler) method which we have already met. \n",
    "**Ralston's order 2 method**, which also occasionally goes by the name \"Heun's method,\" arises by setting $\\alpha=\\beta=2/3$, $w_1=1/4$, and $w_2=3/4$.\n",
    "Finally, the **midpoint method** (or **corrected Euler method**) is defined by the choices $\\alpha=\\beta=1/2$, $w_1=0$, and $w_2=1$."
   ]
  },
  {
   "cell_type": "markdown",
   "id": "2c6bf833",
   "metadata": {},
   "source": [
    "## The classical fourth order method.\n",
    "\n",
    "Probably the most popular Runge–Kutta method is the **classical fourth order Runge–Kutta method** (**RK4**), which is defined by the equations\n",
    "\\begin{equation}\n",
    "y_{i+1} = \\frac{h}{6}\\big(k_1 + 2k_2 + 2k_3 + k_4\\big),\n",
    "\\end{equation}\n",
    "where\n",
    "\\begin{align}\n",
    "k_1 &= f(x_i, y_i),\\\\\n",
    "k_2 &= f\\big(x_i + h/2, y_i + hk_1/2\\big),\\\\\n",
    "k_3 &= f\\big(x_i + h/2, y_i + hk_2/2\\big),\\\\\n",
    "k_4 &= f(x_i + h, y_i + hk_3).\n",
    "\\end{align}\n",
    "As the name would seem to imply, RK4 is an order $4$ numerical method."
   ]
  },
  {
   "cell_type": "markdown",
   "id": "b9af3215",
   "metadata": {},
   "source": [
    "## Example.\n",
    "\n",
    "Below we compare Euler's method with the classical Runge–Kutta method of order 4 (RK4) for the IVP \n",
    "\\begin{align}\n",
    "y'&=(y/x)-(y/x)^2,\\\\\n",
    "y(1)&=1.\n",
    "\\end{align}"
   ]
  },
  {
   "cell_type": "code",
   "execution_count": null,
   "id": "24c66233",
   "metadata": {},
   "outputs": [],
   "source": [
    "import math263\n",
    "import numpy as np\n",
    "import sympy\n",
    "import matplotlib.pyplot as plt\n",
    "from tabulate import tabulate\n",
    "\n",
    "plt.style.use('dark_background');\n",
    "\n",
    "# define IVP parameters\n",
    "f = lambda x, y: (y/x) - (y/x)**2;\n",
    "a, b = 1, 2;\n",
    "y0=1;\n",
    "\n",
    "# solve the IVP symbolically with the sympy library\n",
    "x = sympy.Symbol('x');\n",
    "y = sympy.Function('y');\n",
    "ode = sympy.Eq(y(x).diff(x), f(x,y(x)));\n",
    "soln = sympy.dsolve(ode, y(x), ics={y(a): y0}); \n",
    "print(\"The exact symbolic solution to the IVP\");\n",
    "display(ode);\n",
    "print(f\"with initial condition y({a}) = {y0} is\");\n",
    "display(soln);\n",
    "\n",
    "# convert the symbolic solution to a Python function and plot it with matplotlib.pyplot\n",
    "sym_y=sympy.lambdify(x, soln.rhs, modules=['numpy']); \n",
    "xvals = np.linspace(a, b, num=100);\n",
    "fig, ax = plt.subplots(layout='constrained');\n",
    "ax.plot(xvals, sym_y(xvals), color='b', label=f\"${sympy.latex(soln)}$\");\n",
    "ax.set_title(f\"$y' = {sympy.latex(f(x,y(x)))}$, $y({a})={y0}$\");\n",
    "ax.set_xlabel(r\"$x$\");\n",
    "ax.set_ylabel(r\"$y$\");\n",
    "ax.legend([f\"${sympy.latex(soln)}$\"], loc='upper right');\n",
    "plt.grid(True)\n",
    "\n",
    "# numerically solve the IVP with n=10 steps of forward Euler and n=10 steps of RK4\n",
    "n = 10;\n",
    "(xi, y_euler) = math263.euler(f, a, b, y0, n);\n",
    "(xi, y_rk4)   = math263.rk4(f, a, b, y0, n);\n",
    "\n",
    "# plot numerical solutions on top of true solution\n",
    "ax.plot(xi, y_euler[:, 0], 'ro:', label=\"Euler\");\n",
    "ax.plot(xi, y_rk4[:, 0], 'go:', label=\"RK4\");\n",
    "ax.legend(loc='upper left');\n",
    "plt.show();\n",
    "\n",
    "# tabulate the results\n",
    "print(\"Global errors for Euler's method and RK4.\")\n",
    "table = np.c_[xi, abs(sym_y(xi) - y_euler[:, 0]), abs(sym_y(xi) - y_rk4[:, 0])];\n",
    "hdrs = [\"i\", \"x_i\", \"e_{i,Euler} = |y(x_i)-y_i|\", \"e_{i,RK4} = |y(x_i)-y_i|\"];\n",
    "print(tabulate(table, hdrs, tablefmt='mixed_grid', floatfmt='0.5g', showindex=True))"
   ]
  }
 ],
 "metadata": {
  "jupytext": {
   "custom_cell_magics": "kql"
  },
  "kernelspec": {
   "display_name": "math263-notes",
   "language": "python",
   "name": "python3"
  }
 },
 "nbformat": 4,
 "nbformat_minor": 5
}
