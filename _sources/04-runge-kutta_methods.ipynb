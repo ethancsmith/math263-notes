{
 "cells": [
  {
   "cell_type": "markdown",
   "id": "2104af59",
   "metadata": {},
   "source": [
    "# Lecture 4: Runge–Kutta methods.\n",
    "\n",
    "Recalling our analysis of Euler's method, it is clear that we could obtain a higher order method if our recurrence for generating the $y_i$'s agreed with more terms of the Taylor series for $y_*$, the true solution to the ODE that passes through the point $(x_i, y_i)$.\n",
    "The **Runge–Kutta methods** are a family of numerical methods which generalize both the methods of Euler and Heun.\n",
    "As with Heun's method, the essence of the idea is to use additional terms of the Taylor series without actually computing the higher order derivatives and instead replacing each with some finite difference approximation.\n",
    "The Runge-Kutta method of order $1$ is Euler's method. Heun's modified Euler method is an example of an order $2$ Runge–Kutta method."
   ]
  },
  {
   "cell_type": "markdown",
   "id": "47388718",
   "metadata": {},
   "source": [
    "## Order two methods.\n",
    "\n",
    "The generic Runge-Kutta method of order 2 takes the form\n",
    "\\begin{equation}\n",
    "y_{i+1} = y_i + h\\big(w_1k_1 + w_2k_2\\big),\n",
    "\\end{equation}\n",
    "where\n",
    "\\begin{align}\n",
    "k_1 &= f(x_i, y_i),\\\\\n",
    "k_2 &= f(x_i+\\alpha h, y_i + \\beta hk_1),\\\\\n",
    "w_1 &=\\frac{1}{2\\alpha},\\\\\n",
    "w_2 &=\\frac{1}{2\\beta},\\\\\n",
    "w_1+w_2 &=1,\\\\\n",
    "\\end{align}\n",
    "***TODO: Insert proof that this family has order 2.***\n",
    "\n",
    "Any choice of parameters $\\alpha, \\beta, w_1, w_2$ satisfying the above constraints yields a valid order $2$ method.\n",
    "We mention the three most common choices here.\n",
    "Setting $w_1=w_2=1/2$ and $\\alpha=\\beta=1$ yields Heun's (modified Euler) method which we have already met. \n",
    "**Ralston's order 2 method**, which also occasionally goes by the name \"Heun's method,\" arises by setting $w_1=1/4$, $w_2=3/4$, and $\\alpha=\\beta=2/3$.\n",
    "Finally, the **midpoint method** (or **corrected Euler method**) is defined by the choices $w_1=0$, $w_2=1$, and  $\\alpha=\\beta=1/2$."
   ]
  },
  {
   "cell_type": "markdown",
   "id": "723e27f7",
   "metadata": {},
   "source": [
    "## The classical fourth order method.\n",
    "\n",
    "Probably the most popular Runge–Kutta method is the **classical fourth order Runge–Kutta method** (**RK4**), which is defined by the equations\n",
    "\\begin{equation}\n",
    "y_{i+1} = \\frac{h}{6}\\big(k_1 + 2k_2 + 2k_3 + k_4\\big),\n",
    "\\end{equation}\n",
    "where\n",
    "\\begin{align}\n",
    "k_1 &= f(x_i, y_i),\\\\\n",
    "k_2 &= f\\big(x_i + h/2, y_i + hk_1/2\\big),\\\\\n",
    "k_3 &= f\\big(x_i + h/2, y_i + hk_2/2\\big),\\\\\n",
    "k_4 &= f(x_i + h, y_i + hk_3).\n",
    "\\end{align}\n",
    "As the name would seem to imply, RK4 is an order $4$ numerical method."
   ]
  },
  {
   "cell_type": "markdown",
   "id": "47b51169",
   "metadata": {},
   "source": [
    "## Example.\n",
    "\n",
    "Below we compare Euler's method with the classical Runge–Kutta method of order 4 (RK4) for the IVP \n",
    "\\begin{align}\n",
    "y'&=(y/x)-(y/x)^2,\\\\\n",
    "y(1)&=1.\n",
    "\\end{align}"
   ]
  },
  {
   "cell_type": "code",
   "execution_count": null,
   "id": "24b258ad",
   "metadata": {},
   "outputs": [],
   "source": [
    "import math263\n",
    "import numpy as np\n",
    "import sympy as sp\n",
    "import matplotlib.pyplot as plt\n",
    "from tabulate import tabulate\n",
    "from IPython.display import display, Markdown\n",
    "\n",
    "# define IVP parameters\n",
    "f = lambda x, y: (y/x) - (y/x)**2;\n",
    "a, b = 1, 2;\n",
    "y0=1;\n",
    "\n",
    "# solve the IVP symbolically with the sympy library\n",
    "x = sp.Symbol('x');\n",
    "y = sp.Function('y');\n",
    "ode = sp.Eq(y(x).diff(x), f(x,y(x)));\n",
    "soln=sp.dsolve(ode, y(x), ics={y(a): y0}); \n",
    "rhs=f(x,y(x));\n",
    "display(Markdown(f\"The true solution to the ODE $y'={sp.latex(rhs)}$ with initial condition $y({a})={y0}$ is ${sp.latex(soln)}$.\"))\n",
    "\n",
    "# convert the symbolic solution to a Python function and plot it with matplotlib.pyplot\n",
    "sym_y=sp.lambdify(x, soln.rhs, modules=['numpy']); \n",
    "xvals = np.linspace(a, b, num=100);\n",
    "ex1=plt.figure();\n",
    "plt.plot(xvals, sym_y(xvals), color='b');\n",
    "plt.title(f\"$y' = {sp.latex(rhs)}$, $y({a})={y0}$\");\n",
    "plt.xlabel(r\"$x$\");\n",
    "plt.ylabel(r\"$y$\");\n",
    "plt.legend([f\"${sp.latex(soln)}$\"], loc='upper right');\n",
    "plt.grid(True)\n",
    "\n",
    "# numerically solve the IVP with n=10 steps of forward Euler and n=10 steps of RK4\n",
    "n = 10;\n",
    "(x, y_euler) = math263.euler(f, a, b, y0, n);\n",
    "(x, y_rk4)   = math263.rk4(f, a, b, y0, n);\n",
    "\n",
    "# tabulate the results\n",
    "print(\"Global errors for Euler's method and RK4.\")\n",
    "table = np.transpose(np.stack((x, abs(sym_y(x) - y_euler[:, 0]), abs(sym_y(x) - y_rk4[:, 0]))));\n",
    "hdrs = [\"i\", \"x_i\", \"e_{i,Euler} = |y(x_i)-y_i|\", \"e_{i,RK4} = |y(x_i)-y_i|\"];\n",
    "print(tabulate(table, hdrs, tablefmt='mixed_grid', floatfmt='0.5g', showindex=True))\n",
    "\n",
    "# plot numerical solutions on top of true solution\n",
    "plt.figure(ex1);\n",
    "plt.plot(x,y_euler[:, 0],'ro:');\n",
    "plt.plot(x,y_rk4[:, 0],'go:');\n",
    "plt.legend([f\"${sp.latex(soln)}$\",\"Euler\", \"RK4\"], loc='upper left');\n",
    "plt.show();"
   ]
  },
  {
   "cell_type": "markdown",
   "id": "eab42c50",
   "metadata": {},
   "source": [
    "## Exercises.\n",
    "\n",
    "1. Implement Ralston's order 2 method and the midpoint method in Mathematica.\n",
    "Call the methods _ralston2_ and _midpoint_, respectively.\n",
    "You may copy and paste my code from lecture for any other needed methods.\n",
    "\n",
    "1. Solve each of the following IVP's with the indicated parameter choices using midpoint method, Heun's method, and Ralston's order 2 method.\n",
    "For each IVP, create a table for each method displaying the step $i$, the exact value $y(x_i)$, the approximate value $y_i$, and the absolute error $|y(x_i)-y_i|$.\n",
    "Make sure that it is clear which table is which.\n",
    "For each problem, indicate whether one of the 3 methods appears to perform better than the others.  \n",
    "If not, explain.\n",
    "    1. $y'=x\\mathrm{e}^{3x}-2y$, $y(0)=0$, $[a,b]=[0,1]$, $h=0.5$.\n",
    "    1. $y'=1+(x-y)^2$, $y(2)=1$, $[a,b]=[2,3]$, $h=0.5$.\n",
    "    1. $y'=1+y/x$, $y(1)=2$, $[a,b]=[1,2]$, $h=0.25$.\n",
    "    1. $y'=\\cos 2x - \\sin 3x$, $y(0)=1$, $[a,b]=[0,1]$, $h=0.25$.\n",
    "\n",
    "1. Consider the IVP $y'=1+y/x+(y/x)^2$, $y(1)=0$.\n",
    "    1. Use the midpoint method to approximate $y(3)$ for $n=8, 16, 32, 64$ and display the absolute errors in a table.  Based on observation, what would you guess the local and global truncation errors for the method to be?\n",
    "    1. Use Heun's method to approximate $y(3)$ for $n=8, 16, 32, 64$ and display the absolute errors in a table.  Based on observation, what would you guess the local and global truncation errors for the method to be?\n",
    "    1. Use Ralston's order 2 method to approximate $y(3)$ for $n=8, 16, 32, 64$ and display the absolute errors in a table.  Based on observation, what would you guess the local and global truncation errors for the method to be?\n",
    "    1. Use the classical RK4 method to approximate $y(3)$ for $n=8, 16, 32, 64$ and display the absolute errors in a table.  Based on observation, what would you guess the local and global truncation errors for the method to be?\n",
    "    1. On a per step basis, typically the \"expensive\" part of these algorithms is the evaluation of $f(x,y)$.  How many evaluations do each of the 4 methods require per step?  How many evaluations are required to complete $n$ steps?  Is RK4 worth the extra evaluations?  Hint: You must find a way to \"equalize\" the work before comparing."
   ]
  }
 ],
 "metadata": {
  "jupytext": {
   "custom_cell_magics": "kql"
  },
  "kernelspec": {
   "display_name": "Python 3 (ipykernel)",
   "language": "python",
   "name": "python3"
  }
 },
 "nbformat": 4,
 "nbformat_minor": 5
}
