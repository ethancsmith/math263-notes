{
 "cells": [
  {
   "cell_type": "markdown",
   "id": "2d8b5039",
   "metadata": {},
   "source": [
    "# Lecture 5: Multistep methods.\n",
    "\n",
    "The methods that we have considered so far are all called **single-step methods** because the point $(x_{i+1}, y_{i+1})$ is computed using only information from the previous step, namely $(x_i, y_i)$.\n",
    "In particular, the methods have all depended on a formula of the form \n",
    "\\begin{equation}\n",
    "y_{i+1} = y_i + h\\phi(x_i, y_i, h).\n",
    "\\end{equation}\n",
    "These methods are also called **starting methods** because the initial-value condition $y(x_0)=y_0$ gives enough information to use these methods from the start.\n",
    "On the other hand, **multistep methods** use more than one of the previously computed $y_j$.\n",
    "An **$m$-step method** would use the previous $m$ values: $(x_i,y_i), (x_{i-1},y_{i-1}),\\dots, (x_{i-m+1},y_{i-m+1})$.\n",
    "**Linear multistep methods** take the form\n",
    "\\begin{equation}\n",
    "y_{i+1} = \\sum_{j=1}^m\\alpha_jy_{i+1-j} + h\\sum_{j=0}^m\\beta_jf(x_{i+1-j}, y_{i+1-j}).\n",
    "\\end{equation}\n",
    "Clearly such a method cannot be used until $m$ previous values are known.\n",
    "For this reason, these methods must be paired with a starting method and are themselves called **continuing methods**.\n",
    "However, there is additional wrinkle if $\\beta_0\\ne 0$ since in that case $y_{i+1}$ appears on both sides of the defining equation.  \n",
    "If $\\beta_0=0$, the method is said to be **explicit**.\n",
    "Otherwise, the method is said to be **implicit**.\n",
    "If the method is implicit and the function $f(x, y)$ is linear in $y$, then it is easy to solve for $y_{i+1}$ once the specific IVP is given, but in practice this is often not the case.\n",
    "We will consider implicit methods in the next lecture.\n",
    "For now, we concentrate on the case of explicit methods.\n",
    "Some of the most popular explicit linear multistep methods are the _Adams–Bashforth methods_."
   ]
  },
  {
   "cell_type": "markdown",
   "id": "c0bde429",
   "metadata": {},
   "source": [
    "## Adams–Bashforth 2-step (explicit) method.\n",
    "\n",
    "Every explicit linear $2$-step method takes the form\n",
    "\\begin{equation}\\label{2-step form}\n",
    "y_{i+1} = \\alpha_1y_i + h\\big(\\beta_1f(x_i,y_i) + \\beta_2f(x_{i-1},y_{i-1}\\big).\n",
    "\\end{equation}\n",
    "The idea of the $2$-step Adams–Bashforth method is to force the formula to be exact for the first 3 terms of the Taylor series for the true solution $y$.\n",
    "This will ensure that the local truncation error for the method is $O(h^3)$ as $h\\to 0$.\n",
    "Note that with only $3$ parameters to determine (viz, $\\alpha_1, \\beta_1, \\beta_2)$, this is the best that can be done.\n",
    "By linearity, it is enough to make it exact for the cases $y(x)=1$, $y(x)=x$, and $y(x)=x^2$.\n",
    "If $y(x)=1$, then $f(x,y(x)) = y'(x) = 0$, and so the above equation \\eqref{2-step form} becomes\n",
    "\\begin{equation}\n",
    "1=\\alpha_1.\n",
    "\\end{equation}\n",
    "Similarly, if $y(x)=x$, then $y'(x)=1$ and \\eqref{2-step form} becomes\n",
    "\\begin{equation}\n",
    "x_{i+1}=\\alpha_1 x_i + h(\\beta_1+\\beta_2).\n",
    "\\end{equation}\n",
    "Finally, if $y(x)=x^2$, then $y'(x)=2x$ and \\eqref{2-step form} becomes\n",
    "\\begin{equation}\n",
    "x_{i+1}^2 = \\alpha_1x_i^2+ h(2\\beta_1x_i + 2\\beta_2x_{i-1}).\n",
    "\\end{equation}\n",
    "Now the preceding three equations must hold for all values of $x_i$ and $h$.\n",
    "Choosing $x_{i}=1$ and $h=1$ so that $x_{i-1}=0$ and $x_{i+1}=2$, we arrive at the system of equations\n",
    "\\begin{align}\n",
    "1&=\\alpha_1,\\\\\n",
    "2&=\\alpha_1+\\beta_1+\\beta_2,\\\\\n",
    "4&=\\alpha_1+2\\beta_1.\n",
    "\\end{align}\n",
    "Solving the system yields $\\alpha_1=1$, $\\beta_1=3/2$, and $\\beta_2=-1/2$.\n",
    "The **(explicit) Adams–Bashforth two-step method (AB2)** is therefore defined by the recurrence\n",
    "\\begin{equation}\n",
    "y_{i+1} = y_i + \\frac{h}{2}\\big(3y_i' - y_{i-1}'\\big),\n",
    "\\end{equation}\n",
    "where $y_i' = f(x_i, y_i)$ for each $i\\ge 1$.\n",
    "\n",
    "As we noted above, the local truncation error for the method is $O(h^3)$ as $h\\to 0$.\n",
    "This makes AB2 an order $2$ method.\n",
    "Thus, it should be paired with a starter method whose order of accuracy is at least $2$ such as Heun's modified Euler method.  "
   ]
  },
  {
   "cell_type": "markdown",
   "id": "a8b43f77",
   "metadata": {},
   "source": [
    "## Adams–Bashforth 4-step (explicit) method.\n",
    "\n",
    "In a similar manner, one may derive the **(explicit) Adams–Bashforth four-step method (AB4)**, which is defined by the recurrence\n",
    "\\begin{equation}\n",
    "y_{i+1}=y_i+\\frac{h}{24}\\big(55y_i'-59y_{i-1}'+37y_{i-2}'-9y_{i-3}'\\big)\n",
    "\\end{equation}\n",
    "and has local truncation error that is $O(h^5)$ as $h\\to 0$.\n",
    "Thus, it should be paired with an order $4$ starting method such as the classical RK4 method."
   ]
  },
  {
   "cell_type": "markdown",
   "id": "e63179a7",
   "metadata": {},
   "source": [
    "## Advantages and disadvantages.\n",
    "\n",
    "The disadvantage of a multistep method is that it is typically slightly more difficult to implement than a single-step method.\n",
    "It even requires a single-step method to get started.\n",
    "However, there tends to be a major gain in order of accuracy per work.\n",
    "We usually measure the work per step of a numerical method based on the number of times that we need to evaluate the \"right-hand side\" function $f(x,y)$.\n",
    "The typical single-step Runge-Kutta method of order 2 (e.g., Heun's method) requires 2 functional evaluations per step.\n",
    "We compare this to the Adams–Bashforth 2-step method which has the same order of accuracy and only requires one additional functional evaluation per step since it saves the evaluations from previous steps until it is finished with them.\n",
    "Furthermore, since the error $|y(x_i)-y_i|$ tends to increase with $i$, it is reasonable to hope that a multistep may have better accuracy (not just order of accuracy) by mere fact that it explicitly incorporates more accurate previous data when approximating $y_{i+1}$."
   ]
  },
  {
   "cell_type": "markdown",
   "id": "b844ff49",
   "metadata": {},
   "source": [
    "## Example.\n",
    "\n",
    "We now use the IVP\n",
    "\\begin{align}\n",
    "y'&=y-x^2+1,\\\\\n",
    "y(0)&=1/2\n",
    "\\end{align}\n",
    "as a test case for an empirical comparison of the multistep method AB2 with Heun's modified (single-step) Euler method.\n",
    "Note that both methods have the same order of accuracy, namely, order $2$."
   ]
  },
  {
   "cell_type": "code",
   "execution_count": null,
   "id": "c5b540d7",
   "metadata": {},
   "outputs": [],
   "source": [
    "import math263\n",
    "import numpy as np\n",
    "import sympy as sp\n",
    "import matplotlib.pyplot as plt\n",
    "from tabulate import tabulate\n",
    "from IPython.display import display, Markdown\n",
    "\n",
    "# define IVP parameters\n",
    "f = lambda x, y: y - x**2 + 1;\n",
    "a, b = 0, 2;\n",
    "y0=1/2;"
   ]
  },
  {
   "cell_type": "markdown",
   "id": "1f4e1f7f",
   "metadata": {},
   "source": [
    "## Exercises.\n",
    "\n",
    "1. Implement the Adams–Bashforth four-step method (AB4) with the classical Runge-Kutta method (RK4) as starter.\n",
    "1. Solve each of the following IVP's with the indicated parameter choices using both AB4 and (single-step) RK4.\n",
    "For each IVP, create a single table displaying the exact value $y(x_i)$, the approximate value $y_i$ for each method, and the absolute error $|y_i-y(x_i)|$ for each method.\n",
    "Comment on which method appears to perform better for each problem.\n",
    "     1. $y'=x\\mathrm{e}^{3x}-2y$, $y(0)=0$, $[a,b]=[0,1]$, $h=0.1$.\n",
    "     1. $y'=1+(x-y)^2$, $y(2)=1$, $[a,b]=[2,3]$, $h=0.1$.\n",
    "     1. $y'=1+y/x$, $y(1)=2$, $[a,b]=[1,2]$, $h=0.1$.\n",
    "     1. $y'=\\cos 2x - \\sin 3x$, $y(0)=1$, $[a,b]=[0,1]$, $h=0.1$.\n",
    "1. Consider the IVP\n",
    "\\begin{equation*}\n",
    "y'=1+y/x+(y/x)^2,\\quad y(1)=0.\n",
    "\\end{equation*}\n",
    "     1. Use both AB4 and (single-step) RK4 to approximate $y(3)$ for $n=2^k$ with $k=3,\\dots, 10$.\n",
    "     Display the absolute errors for both in a single table.\n",
    "     Do the data appear consistent with the \"advertised\" local truncation error for AB4?  Explain.\n",
    "     1. Record the time that each method requires to perform each of the above calculation and present the results together in a table for easy comparison.\n",
    "     Comment on what you observe."
   ]
  }
 ],
 "metadata": {
  "kernelspec": {
   "display_name": "Python 3 (ipykernel)",
   "language": "python",
   "name": "python3"
  },
  "language_info": {
   "codemirror_mode": {
    "name": "ipython",
    "version": 3
   },
   "file_extension": ".py",
   "mimetype": "text/x-python",
   "name": "python",
   "nbconvert_exporter": "python",
   "pygments_lexer": "ipython3",
   "version": "3.11.7"
  }
 },
 "nbformat": 4,
 "nbformat_minor": 5
}
