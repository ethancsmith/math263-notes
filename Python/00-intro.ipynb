{
 "cells": [
  {
   "cell_type": "markdown",
   "id": "c56a0893",
   "metadata": {},
   "source": [
    "# Lecture 0: Introduction to Numerical Computing with Python"
   ]
  },
  {
   "cell_type": "markdown",
   "id": "ca56d49e",
   "metadata": {},
   "source": [
    "In this class we will use Jupyter notebooks to present our work, which includes computational results and written analysis.  We will also develop our own Python module where we implement the techniques that we develop."
   ]
  },
  {
   "cell_type": "markdown",
   "id": "856ec2ea",
   "metadata": {},
   "source": [
    "## Limits and errors"
   ]
  },
  {
   "cell_type": "markdown",
   "id": "f8821eaf",
   "metadata": {},
   "source": [
    "Calculus is such a sprawling subject that many students finish without being able to clearly say what calculus is really all about.  In the typical calculus course, we drill methods for determining that such and such derivative (or integral) _equals_ such and such expression.  So, student often leave thinking that calculus is about computing derivatives and integrals.  There are several popular definitions of calculus (e.g., the mathematics of change), but most of them are rather limited.  I prefer to say that calculus is the applications of limits since, ultimately, all the major concepts of calculus are based on limits.\n",
    "\n",
    "What then is a limit?  The limit concept is the mathematical formalism that enables us to engage in \"clear-headed thinking\" about approximation, error, and tolerance.  \n",
    "\n",
    "**Definition.** We say that the **limit** of $f(x)$ as $x$ approaches $a$ is $L$, and we write\n",
    "$f(x)\\to L$ as $x\\to a$ or\n",
    "$$\\lim_{x\\to a}f(x) = L,$$ \n",
    "provided that for every $\\epsilon>0$, there is a $\\delta>0$ so that\n",
    "$$|f(x) - L| < \\epsilon$$\n",
    "for all $x$ in the domain of $f$ so that $0<|x-a|<\\delta$.\n",
    "\n",
    "Now let us \"unpack\" that definition.\n",
    "The expression $|f(x)-L|$ measures the distance between $f(x)$ and $L$, and hence should be interpreted as the **absolute error** in the approximation $f(x)\\approx L$.  To say that we can force $|f(x)-L|<\\epsilon$ for _every_ positive $\\epsilon$ is to say that we can make the error in that approximation as small as we like.  We should think of $\\epsilon$ then as our acceptable **error tolerance** which, in principle, can always be made smaller should requirements demand it. However, no one can require us to make the error equal to zero – that would be unreasonable.\n",
    "\n",
    "But _how_ do we force the error to be within requirements?  We do it by adjusting the \"control variable\" $x$ sufficiently close, but not equal to, $a$.  The statement $0<|x-a|$ says that $x\\ne a$, and the statement $|x-a|<\\delta$ says that $x$ is within $\\delta$ of $a$.  To determine $\\delta$ for a given tolerance $\\epsilon$ is then to determine how close we need to draw $x$ toward $a$ so that the approximation $f(x)\\approx L$ meets requirements.\n",
    "\n",
    "Notice that the only place we see an equals sign in that entire discussion is in the notation $\\lim_{x\\to a}f(x) = L$.  The definition of limit tells us that what that equals sign really means is that it is possible to \"win at a game of inequalities.\"  This is why I say that calculus is not really about equality but rather about inequality.  Calculus employs a lot of ingenious notational tricks that allow us to focus our attention on the \"targets of approximation\" (e.g., the $L$ in the above definition) and mostly ignore the gritty details concerning error.  \n",
    "\n",
    "Why do we do this?  A first step in approximation is knowing what you're approximating and if it really is a thing.  Does the limit exist or am I approximating garbage?  If the limit does exist, what is it?  "
   ]
  },
  {
   "cell_type": "markdown",
   "id": "eaccba80",
   "metadata": {},
   "source": [
    "## Big-oh notation"
   ]
  },
  {
   "cell_type": "markdown",
   "id": "5d05eaac",
   "metadata": {},
   "source": [
    "Suppose $f$ and $g$ are functions of a real variable $x$ and that both are defined on an open interval containing $x=a$ except possibly at $x=a$ itself.  We say that $f$ **is of order $g$ at** $x=a$, and we write\n",
    "$$f(x)\\ll g(x)\\text{ as } x\\to a$$\n",
    "or\n",
    "$$f(x) = O\\big(g(x)\\big)\\text{ as } x\\to a$$\n",
    "if there are constants $M, \\delta>0$ so that\n",
    "$$|f(x)|\\le M|g(x)|$$\n",
    "for all $x$ so that $0<|x-a|<\\delta$.\n",
    "\n",
    "We write \n",
    "$$f(x) = g(x) +O\\big(h(x)\\big)\\text{ as }x\\to a$$\n",
    "if $f(x) - g(x)\\ll h(x)$."
   ]
  },
  {
   "cell_type": "markdown",
   "id": "458f8d59",
   "metadata": {},
   "source": [
    "## Numerical differentiation"
   ]
  },
  {
   "cell_type": "markdown",
   "id": "98a03127",
   "metadata": {},
   "source": [
    "In calculus, we learn that the derivative\n",
    "$$f'(a) = \\lim_{h\\to 0}\\frac{f(a+h) - f(a)}{h}$$\n",
    "represents the (instantaneous) rate of change in $f$ with respect to $x$ at the point $x=a$.  Therefore, when the limit exists, \n",
    "$$f'(a)\\approx \\frac{f(a+h)-f(a)}{h}$$\n",
    "and the error in this approximation can be made arbitrarily small by taking $h$ sufficiently close to (but not equal to) $0$.  So, how close is close enough?\n",
    "\n",
    "By Lagrange's remainder theorem, if the second derivative $f''$ is continuous in a neighborhood of $x=a$, then there is a number $c$ between $x$ and $a$ so that\n",
    "\\begin{equation*}\n",
    "f(x) = f(a) + f'(a)(x-a) + \\frac{1}{2}f''(c)(x-a)^2.\n",
    "\\end{equation*}\n",
    "Writing $x=a+h$,\n",
    "\\begin{equation*}\n",
    "f(a+h) = f(a) + f'(a)h + \\frac{1}{2}f''(c)h^2.\n",
    "\\end{equation*}\n",
    "Thus, it follows that there is an $M>0$ so that\n",
    "\\begin{equation*}\n",
    "\\left|f'(a) - \\frac{f(a+h)-f(a)}{h}\\right| \\le Mh,\n",
    "\\end{equation*}\n",
    "i.e.,\n",
    "\\begin{equation*}\n",
    "f'(a) = \\frac{f(a+h)-f(a)}{h} + O(h) \\text{ as } h\\to 0.\n",
    "\\end{equation*}"
   ]
  },
  {
   "cell_type": "markdown",
   "id": "e615c6ce",
   "metadata": {},
   "source": [
    "IDEA: Do forward/backward difference with error analysis.  Have them do centered difference."
   ]
  },
  {
   "cell_type": "code",
   "execution_count": 1,
   "id": "908fc784",
   "metadata": {},
   "outputs": [],
   "source": [
    "import numpy as np"
   ]
  },
  {
   "cell_type": "code",
   "execution_count": 15,
   "id": "fd301fd6",
   "metadata": {},
   "outputs": [],
   "source": [
    "def fdiff(f, a, h):\n",
    "    return (f(a+h)-f(a))/h;\n",
    "\n",
    "def bdiff(f, a, h):\n",
    "    return (f(a-h)-f(a))/(-h);"
   ]
  },
  {
   "cell_type": "code",
   "execution_count": 26,
   "id": "62c46536",
   "metadata": {},
   "outputs": [
    {
     "data": {
      "text/plain": [
       "0.9999833334166665"
      ]
     },
     "execution_count": 26,
     "metadata": {},
     "output_type": "execute_result"
    }
   ],
   "source": [
    "fdiff(lambda x: np.sin(x), 0, 0.01)"
   ]
  },
  {
   "cell_type": "code",
   "execution_count": 24,
   "id": "0904971b",
   "metadata": {},
   "outputs": [
    {
     "data": {
      "text/plain": [
       "0.9983341664682815"
      ]
     },
     "execution_count": 24,
     "metadata": {},
     "output_type": "execute_result"
    }
   ],
   "source": [
    "bdiff(lambda x: np.sin(x), 0, 0.1)"
   ]
  },
  {
   "cell_type": "markdown",
   "id": "c6a3b2b0",
   "metadata": {},
   "source": [
    "## Algebra"
   ]
  },
  {
   "cell_type": "code",
   "execution_count": 14,
   "id": "c7a39e6e",
   "metadata": {},
   "outputs": [
    {
     "data": {
      "text/latex": [
       "$\\displaystyle x^{2} + 2 y$"
      ],
      "text/plain": [
       "x**2 + 2*y"
      ]
     },
     "execution_count": 14,
     "metadata": {},
     "output_type": "execute_result"
    }
   ],
   "source": [
    "#from sympy import symbols\n",
    "x, y=sympy.symbols('x y')\n",
    "expr = x**2+2*y\n",
    "expr"
   ]
  },
  {
   "cell_type": "code",
   "execution_count": 16,
   "id": "99013a95",
   "metadata": {},
   "outputs": [
    {
     "data": {
      "text/latex": [
       "$\\displaystyle e^{x} \\sin{\\left(x \\right)} + e^{x} \\cos{\\left(x \\right)}$"
      ],
      "text/plain": [
       "exp(x)*sin(x) + exp(x)*cos(x)"
      ]
     },
     "execution_count": 16,
     "metadata": {},
     "output_type": "execute_result"
    }
   ],
   "source": [
    "x, t = sympy.symbols('x t')\n",
    "sympy.diff(sympy.sin(x)*sympy.exp(x), x)"
   ]
  },
  {
   "cell_type": "markdown",
   "id": "d8306343",
   "metadata": {},
   "source": [
    "We could do `from sympy import *` to avoid needing to specify that we want the sympy version of sin() and exp(), but our main focus is numerical computation, and we want to keep math.sin and sympy.sin separate.  If anything, we will do `from math import *` so that we have shorthand access to the ordinary numerical versions.  Or maybe we want the numpy versions"
   ]
  },
  {
   "cell_type": "code",
   "execution_count": 17,
   "id": "d7366477",
   "metadata": {},
   "outputs": [
    {
     "data": {
      "text/plain": [
       "0.8414709848078965"
      ]
     },
     "execution_count": 17,
     "metadata": {},
     "output_type": "execute_result"
    }
   ],
   "source": [
    "import numpy\n",
    "numpy.sin(1)"
   ]
  },
  {
   "cell_type": "code",
   "execution_count": 18,
   "id": "850a1805",
   "metadata": {},
   "outputs": [
    {
     "data": {
      "text/latex": [
       "$\\displaystyle 1$"
      ],
      "text/plain": [
       "1"
      ]
     },
     "execution_count": 18,
     "metadata": {},
     "output_type": "execute_result"
    }
   ],
   "source": [
    "sympy.limit(sympy.sin(x)/x, x, 0)"
   ]
  },
  {
   "cell_type": "code",
   "execution_count": 19,
   "id": "64e3cd3f",
   "metadata": {},
   "outputs": [
    {
     "data": {
      "text/latex": [
       "$\\displaystyle y{\\left(t \\right)} = C_{2} e^{- t} + \\left(C_{1} + \\frac{t}{2}\\right) e^{t}$"
      ],
      "text/plain": [
       "Eq(y(t), C2*exp(-t) + (C1 + t/2)*exp(t))"
      ]
     },
     "metadata": {},
     "output_type": "display_data"
    },
    {
     "data": {
      "image/png": "[encoded data removed]",
      "text/plain": [
       "<Figure size 640x480 with 1 Axes>"
      ]
     },
     "metadata": {},
     "output_type": "display_data"
    }
   ],
   "source": [
    "y = sympy.Function('y')\n",
    "y(t).diff(t,2)\n",
    "display(sympy.dsolve(y(t).diff(t,2)-y(t)-sympy.exp(t),y(t)))\n",
    "soln=sympy.dsolve(y(t).diff(t,2)-y(t)-sympy.exp(t),y(t),ics={y(0): 1, y(t).diff(t).subs(t,0): 1})\n",
    "sympy.plot(soln.rhs,(t,0,10));"
   ]
  },
  {
   "cell_type": "code",
   "execution_count": 37,
   "id": "79a4f435",
   "metadata": {},
   "outputs": [
    {
     "data": {
      "text/latex": [
       "$\\displaystyle v{\\left(t \\right)} = 4.9 - 4.9 e^{- 2.0 t}$"
      ],
      "text/plain": [
       "Eq(v(t), 4.9 - 4.9*exp(-2.0*t))"
      ]
     },
     "metadata": {},
     "output_type": "display_data"
    },
    {
     "data": {
      "image/png": "[encoded data removed]",
      "text/plain": [
       "<Figure size 640x480 with 1 Axes>"
      ]
     },
     "metadata": {},
     "output_type": "display_data"
    }
   ],
   "source": [
    "m = 1\n",
    "g = 9.8\n",
    "k = 2\n",
    "f = sympy.Function('f')\n",
    "f1 = g * m\n",
    "t = sympy.Symbol('t')\n",
    "v = sympy.Function('v')\n",
    "equation = sympy.dsolve(f1 - k * v(t) - m * sympy.Derivative(v(t)), 0)\n",
    "C1 = sympy.Symbol('C1')\n",
    "C1_ic = sympy.solve(equation.rhs.subs({t:0}),C1)[0]\n",
    "equation = equation.subs({C1:C1_ic});\n",
    "display(equation);\n",
    "sympy.plot(equation.rhs,(t,0,10),ylabel=\"$v(t)$ (m/s)\", xlabel=\"$t$ (s)\");"
   ]
  },
  {
   "cell_type": "code",
   "execution_count": null,
   "id": "4a248916-2af0-4a8d-9faa-4e90171faa3d",
   "metadata": {},
   "outputs": [],
   "source": []
  }
 ],
 "metadata": {
  "kernelspec": {
   "display_name": "Python 3 (ipykernel)",
   "language": "python",
   "name": "python3"
  },
  "language_info": {
   "codemirror_mode": {
    "name": "ipython",
    "version": 3
   },
   "file_extension": ".py",
   "mimetype": "text/x-python",
   "name": "python",
   "nbconvert_exporter": "python",
   "pygments_lexer": "ipython3",
   "version": "3.11.7"
  }
 },
 "nbformat": 4,
 "nbformat_minor": 5
}
